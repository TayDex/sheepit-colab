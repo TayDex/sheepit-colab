{
  "cells": [
    {
      "cell_type": "markdown",
      "metadata": {
        "id": "view-in-github",
        "colab_type": "text"
      },
      "source": [
        "<a href=\"https://colab.research.google.com/github/TayDex/sheepit-colab/blob/main/Sheepit.ipynb\" target=\"_parent\"><img src=\"https://colab.research.google.com/assets/colab-badge.svg\" alt=\"Open In Colab\"/></a>"
      ]
    },
    {
      "cell_type": "markdown",
      "source": [
        "# **Info & Settings**"
      ],
      "metadata": {
        "id": "uERWuNPE0Vxz"
      }
    },
    {
      "cell_type": "markdown",
      "source": [
        "This is a simple Google Colab project for running the SheepIt client. It is mainly based on the guide by Dre#6252, 2x2(red)#4898 and Gus Crust#4015 found [here](https://docs.google.com/document/d/1vxB9otI07PkYBLuAiO5PuYDfvMvnWlxLZMTznL6tHi0/edit). Full credits for the code to them.\n",
        "\n",
        "\n",
        "**How to use:**\n",
        "*   At the top select **Runtime -> Change runtime type and select GPU or None**(for CPU)\n",
        "*   Below **select the runtime_type according to previous runtime choice**.\n",
        "*   Enter your **SheepIt username**\n",
        "*   **Enter your SheepIt render key**(safer then password tho password will work).\n",
        "*   At the top select **Runtime -> Run all**\n",
        "\n",
        "\n",
        "For Problems, further info and more check out the Document linked at the top."
      ],
      "metadata": {
        "id": "sx-nRSr-mmAw"
      }
    },
    {
      "cell_type": "code",
      "source": [
        "runtime_type = 'GPU' #@param ['GPU', 'CPU'] {allow-input: false}\n",
        "username = '' #@param {type: 'string'}\n",
        "key_or_password = '' #@param {type: 'string'}"
      ],
      "metadata": {
        "id": "P0NPDq-7l58i"
      },
      "execution_count": null,
      "outputs": []
    },
    {
      "cell_type": "code",
      "source": [
        "import os\n",
        "os.environ[\"LD_PRELOAD\"] = \"\"\n",
        "!apt update\n",
        "!apt remove libtcmalloc-minimal4\n",
        "!apt install libtcmalloc-minimal4\n",
        "os.environ[\"LD_PRELOAD\"] = \"/usr/lib/x86_64-linux-gnu/libtcmalloc_minimal.so.4.3.0\"\n",
        "!echo $LD_PRELOAD\n",
        "!apt update\n",
        "\n",
        "!apt install libboost-all-dev\n",
        "!apt install libgl1-mesa-dev\n",
        "!apt install libglu1-mesa libsm-dev\n",
        "!sudo add-apt-repository ppa:thomas-schiex/blender -y\n",
        "!sudo apt-get update\n",
        "!wget https://www.sheepit-renderfarm.com/media/applet/client-latest.php -O sheepit.jar\n",
        "\n",
        "!mkdir sheepit\n",
        "if (runtime_type == \"GPU\") :\n",
        "  !java -jar sheepit.jar -cache-dir /content/sheepit -login \"{username}\" -password \"{key_or_password}\" -ui text -compute-method GPU -gpu CUDA_0 -hostname yoit -rendertime 60 --headless\n",
        "else:\n",
        "  !sudo java -jar sheepit.jar -cache-dir /content/sheepit -login \"{username}\" -password \"{key_or_password}\" -ui text -compute-method CPU -priority -19 -hostname yoit -rendertime 60"
      ],
      "metadata": {
        "id": "qmyYLqM8oI0E"
      },
      "execution_count": null,
      "outputs": []
    },
    {
      "cell_type": "markdown",
      "source": [
        "#LICENSE"
      ],
      "metadata": {
        "id": "yndgl8p30Le7"
      }
    },
    {
      "cell_type": "markdown",
      "source": [
        "MIT License\n",
        "\n",
        "Copyright (c) 2022 TayDex\n",
        "\n",
        "Permission is hereby granted, free of charge, to any person obtaining a copy\n",
        "of this software and associated documentation files (the \"Software\"), to deal\n",
        "in the Software without restriction, including without limitation the rights\n",
        "to use, copy, modify, merge, publish, distribute, sublicense, and/or sell\n",
        "copies of the Software, and to permit persons to whom the Software is\n",
        "furnished to do so, subject to the following conditions:\n",
        "\n",
        "The above copyright notice and this permission notice shall be included in all\n",
        "copies or substantial portions of the Software.\n",
        "\n",
        "THE SOFTWARE IS PROVIDED \"AS IS\", WITHOUT WARRANTY OF ANY KIND, EXPRESS OR\n",
        "IMPLIED, INCLUDING BUT NOT LIMITED TO THE WARRANTIES OF MERCHANTABILITY,\n",
        "FITNESS FOR A PARTICULAR PURPOSE AND NONINFRINGEMENT. IN NO EVENT SHALL THE\n",
        "AUTHORS OR COPYRIGHT HOLDERS BE LIABLE FOR ANY CLAIM, DAMAGES OR OTHER\n",
        "LIABILITY, WHETHER IN AN ACTION OF CONTRACT, TORT OR OTHERWISE, ARISING FROM,\n",
        "OUT OF OR IN CONNECTION WITH THE SOFTWARE OR THE USE OR OTHER DEALINGS IN THE\n",
        "SOFTWARE."
      ],
      "metadata": {
        "id": "Qax6lcly0CGp"
      }
    }
  ],
  "metadata": {
    "colab": {
      "collapsed_sections": [],
      "name": "Sheepit",
      "provenance": [],
      "toc_visible": true,
      "authorship_tag": "ABX9TyOvh6RUTazGvGT50gyCfRt4",
      "include_colab_link": true
    },
    "kernelspec": {
      "display_name": "Python 3",
      "name": "python3"
    },
    "language_info": {
      "name": "python"
    },
    "accelerator": "GPU"
  },
  "nbformat": 4,
  "nbformat_minor": 0
}