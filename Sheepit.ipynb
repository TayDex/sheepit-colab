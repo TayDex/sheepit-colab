{
  "cells": [
    {
      "cell_type": "markdown",
      "source": [
        ""
      ],
      "metadata": {
        "id": "sx-nRSr-mmAw"
      }
    },
    {
      "cell_type": "markdown",
      "source": [
        "# **Info & Settings**"
      ],
      "metadata": {
        "id": "uERWuNPE0Vxz"
      }
    },
    {
      "cell_type": "code",
      "source": [
        "runtime_type = 'GPU' #@param ['GPU', 'CPU'] {allow-input: false}\n",
        "username = '' #@param {type: 'string'}\n",
        "key_or_password = '' #@param {type: 'string'}"
      ],
      "metadata": {
        "id": "P0NPDq-7l58i"
      },
      "execution_count": 1,
      "outputs": []
    },
    {
      "cell_type": "code",
      "source": [
        "import os\n",
        "os.environ[\"LD_PRELOAD\"] = \"\"\n",
        "!apt update\n",
        "!apt remove libtcmalloc-minimal4\n",
        "!apt install libtcmalloc-minimal4\n",
        "os.environ[\"LD_PRELOAD\"] = \"/usr/lib/x86_64-linux-gnu/libtcmalloc_minimal.so.4.3.0\"\n",
        "!echo $LD_PRELOAD\n",
        "!apt update\n",
        "\n",
        "!apt install libboost-all-dev\n",
        "!apt install libgl1-mesa-dev\n",
        "!apt install libglu1-mesa libsm-dev\n",
        "!sudo add-apt-repository ppa:thomas-schiex/blender -y\n",
        "!sudo apt-get update\n",
        "!wget https://www.sheepit-renderfarm.com/media/applet/client-latest.php -O sheepit.jar\n",
        "\n",
        "!mkdir sheepit\n",
        "if (runtime_type == \"GPU\") :\n",
        "  !java -jar sheepit.jar -cache-dir /content/sheepit -login \"{username}\" -password \"{key_or_password}\" -ui text -compute-method GPU -gpu CUDA_0 -hostname yoit -rendertime 60 --headless\n",
        "else:\n",
        "  !sudo java -jar sheepit.jar -cache-dir /content/sheepit -login \"{username}\" -password \"{key_or_password}\" -ui text -compute-method CPU -priority -19 -hostname yoit -rendertime 60"
      ],
      "metadata": {
        "id": "qmyYLqM8oI0E"
      },
      "execution_count": null,
      "outputs": []
    },
    {
      "cell_type": "markdown",
      "source": [
        "#LICENSE"
      ],
      "metadata": {
        "id": "yndgl8p30Le7"
      }
    },
    {
      "cell_type": "markdown",
      "source": [
        "MIT License\n",
        "\n",
        "Copyright (c) 2022 TayDex\n",
        "\n",
        "Permission is hereby granted, free of charge, to any person obtaining a copy\n",
        "of this software and associated documentation files (the \"Software\"), to deal\n",
        "in the Software without restriction, including without limitation the rights\n",
        "to use, copy, modify, merge, publish, distribute, sublicense, and/or sell\n",
        "copies of the Software, and to permit persons to whom the Software is\n",
        "furnished to do so, subject to the following conditions:\n",
        "\n",
        "The above copyright notice and this permission notice shall be included in all\n",
        "copies or substantial portions of the Software.\n",
        "\n",
        "THE SOFTWARE IS PROVIDED \"AS IS\", WITHOUT WARRANTY OF ANY KIND, EXPRESS OR\n",
        "IMPLIED, INCLUDING BUT NOT LIMITED TO THE WARRANTIES OF MERCHANTABILITY,\n",
        "FITNESS FOR A PARTICULAR PURPOSE AND NONINFRINGEMENT. IN NO EVENT SHALL THE\n",
        "AUTHORS OR COPYRIGHT HOLDERS BE LIABLE FOR ANY CLAIM, DAMAGES OR OTHER\n",
        "LIABILITY, WHETHER IN AN ACTION OF CONTRACT, TORT OR OTHERWISE, ARISING FROM,\n",
        "OUT OF OR IN CONNECTION WITH THE SOFTWARE OR THE USE OR OTHER DEALINGS IN THE\n",
        "SOFTWARE."
      ],
      "metadata": {
        "id": "Qax6lcly0CGp"
      }
    }
  ],
  "metadata": {
    "colab": {
      "collapsed_sections": [],
      "name": "Sheepit",
      "provenance": [],
      "toc_visible": true,
      "authorship_tag": "ABX9TyNl8LPkKabULN9vjiSsfnC7"
    },
    "kernelspec": {
      "display_name": "Python 3",
      "name": "python3"
    },
    "language_info": {
      "name": "python"
    },
    "accelerator": "GPU"
  },
  "nbformat": 4,
  "nbformat_minor": 0
}